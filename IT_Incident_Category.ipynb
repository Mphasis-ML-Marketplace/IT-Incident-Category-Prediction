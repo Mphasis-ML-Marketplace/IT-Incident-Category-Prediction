{
 "cells": [
  {
   "cell_type": "markdown",
   "metadata": {},
   "source": [
    "# IT Incident Category Prediction\n",
    "\n",
    "This solution, uses textual description of incident from the ticket data to predict its category. It uses an attention based pretrained model to  classify the tickets over a predefined set of incident categories using these textual descriptions. These incident categories along with the respective tickets are provided as output which can be used by an IT service management tool. This reduces the efforts required by L0 associates to read through the description and assign the categories.\n",
    "\n",
    "This sample notebook shows you how to deploy IT Incident Category Prediction using Amazon SageMaker.\n",
    "\n",
    "> **Note**: This is a reference notebook and it cannot run unless you make changes suggested in the notebook.\n",
    "\n",
    "#### Pre-requisites:\n",
    "1. **Note**: This notebook contains elements which render correctly in Jupyter interface. Open this notebook from an Amazon SageMaker Notebook Instance or Amazon SageMaker Studio.\n",
    "1. Ensure that IAM role used has **AmazonSageMakerFullAccess**\n",
    "1. To deploy this ML model successfully, ensure that:\n",
    "    1. Either your IAM role has these three permissions and you have authority to make AWS Marketplace subscriptions in the AWS account used: \n",
    "        1. **aws-marketplace:ViewSubscriptions**\n",
    "        1. **aws-marketplace:Unsubscribe**\n",
    "        1. **aws-marketplace:Subscribe**  \n",
    "    2. or your AWS account has a subscription to IT Incident Category Prediction. If so, skip step: [Subscribe to the model package](#1.-Subscribe-to-the-model-package)\n",
    "\n",
    "#### Contents:\n",
    "1. [Subscribe to the model package](#1.-Subscribe-to-the-model-package)\n",
    "2. [Create an endpoint and perform real-time inference](#2.-Create-an-endpoint-and-perform-real-time-inference)\n",
    "   1. [Create an endpoint](#A.-Create-an-endpoint)\n",
    "   2. [Create input payload](#B.-Create-input-payload)\n",
    "   3. [Perform real-time inference](#C.-Perform-real-time-inference)\n",
    "   4. [Output result](#D.-Output-result)\n",
    "   5. [Delete the endpoint](#E.-Delete-the-endpoint)\n",
    "3. [Perform batch inference](#3.-Perform-batch-inference) \n",
    "4. [Clean-up](#4.-Clean-up)\n",
    "    1. [Delete the model](#A.-Delete-the-model)\n",
    "    2. [Unsubscribe to the listing (optional)](#B.-Unsubscribe-to-the-listing-(optional))\n",
    "    \n",
    "\n",
    "#### Usage instructions\n",
    "You can run this notebook one cell at a time (By using Shift+Enter for running a cell)."
   ]
  },
  {
   "cell_type": "markdown",
   "metadata": {},
   "source": [
    "### 1. Subscribe to the model package"
   ]
  },
  {
   "cell_type": "markdown",
   "metadata": {},
   "source": [
    "To subscribe to the model package:\n",
    "1. Open the model package listing page **IT Incident Category Prediction**\n",
    "1. On the AWS Marketplace listing, click on the **Continue to subscribe** button.\n",
    "1. On the **Subscribe to this software** page, review and click on **\"Accept Offer\"** if you and your organization agrees with EULA, pricing, and support terms. \n",
    "1. Once you click on **Continue to configuration button** and then choose a **region**, you will see a **Product Arn** displayed. This is the model package ARN that you need to specify while creating a deployable model using Boto3. Copy the ARN corresponding to your region and specify the same in the following cell."
   ]
  },
  {
   "cell_type": "code",
   "execution_count": 1,
   "metadata": {},
   "outputs": [],
   "source": [
    "model_package_arn='arn:aws:sagemaker:us-east-2:786796469737:model-package/mphasis-marketplace-incident-category-prediction'"
   ]
  },
  {
   "cell_type": "code",
   "execution_count": 2,
   "metadata": {},
   "outputs": [
    {
     "name": "stderr",
     "output_type": "stream",
     "text": [
      "/home/ec2-user/anaconda3/envs/amazonei_mxnet_p27/lib/python2.7/site-packages/OpenSSL/crypto.py:12: CryptographyDeprecationWarning: Python 2 is no longer supported by the Python core team. Support for it is now deprecated in cryptography, and will be removed in the next release.\n",
      "  from cryptography import x509\n",
      "No handlers could be found for logger \"sagemaker\"\n"
     ]
    }
   ],
   "source": [
    "import base64\n",
    "import json \n",
    "import uuid\n",
    "from sagemaker import ModelPackage\n",
    "import sagemaker as sage\n",
    "from sagemaker import get_execution_role\n",
    "from sagemaker import ModelPackage\n",
    "#from urllib.parse import urlparse\n",
    "import boto3\n",
    "from IPython.display import Image\n",
    "from PIL import Image as ImageEdit\n",
    "#import urllib.request\n",
    "import numpy as np"
   ]
  },
  {
   "cell_type": "code",
   "execution_count": 3,
   "metadata": {},
   "outputs": [
    {
     "data": {
      "text/plain": [
       "'sagemaker-us-east-2-786796469737'"
      ]
     },
     "execution_count": 3,
     "metadata": {},
     "output_type": "execute_result"
    }
   ],
   "source": [
    "role = get_execution_role()\n",
    "\n",
    "sagemaker_session = sage.Session()\n",
    "\n",
    "bucket=sagemaker_session.default_bucket()\n",
    "bucket"
   ]
  },
  {
   "cell_type": "markdown",
   "metadata": {},
   "source": [
    "### 2. Create an endpoint and perform real-time inference"
   ]
  },
  {
   "cell_type": "markdown",
   "metadata": {},
   "source": [
    "If you want to understand how real-time inference with Amazon SageMaker works, see [Documentation](https://docs.aws.amazon.com/sagemaker/latest/dg/how-it-works-hosting.html)."
   ]
  },
  {
   "cell_type": "code",
   "execution_count": 4,
   "metadata": {},
   "outputs": [],
   "source": [
    "model_name='incident-category-prediction'\n",
    "\n",
    "content_type='text/csv'\n",
    "\n",
    "real_time_inference_instance_type='ml.m5.xlarge'\n",
    "batch_transform_inference_instance_type='ml.m5.large'"
   ]
  },
  {
   "cell_type": "markdown",
   "metadata": {},
   "source": [
    "#### A. Create an endpoint"
   ]
  },
  {
   "cell_type": "code",
   "execution_count": 5,
   "metadata": {},
   "outputs": [
    {
     "name": "stdout",
     "output_type": "stream",
     "text": [
      "-----!"
     ]
    }
   ],
   "source": [
    "\n",
    "def predict_wrapper(endpoint, session):\n",
    "    return sage.RealTimePredictor(endpoint, session,content_type=content_type)\n",
    "\n",
    "#create a deployable model from the model package.\n",
    "model = ModelPackage(role=role,\n",
    "                    model_package_arn=model_package_arn,\n",
    "                    sagemaker_session=sagemaker_session,\n",
    "                    predictor_cls=predict_wrapper)\n",
    "\n",
    "#Deploy the model\n",
    "predictor = model.deploy(1, real_time_inference_instance_type, endpoint_name=model_name)"
   ]
  },
  {
   "cell_type": "markdown",
   "metadata": {},
   "source": [
    "Once endpoint has been created, you would be able to perform real-time inference."
   ]
  },
  {
   "cell_type": "markdown",
   "metadata": {},
   "source": [
    "#### B. Create input payload"
   ]
  },
  {
   "cell_type": "code",
   "execution_count": 6,
   "metadata": {},
   "outputs": [],
   "source": [
    "import pandas as pd\n",
    "file_name = './data/input/Input-2.csv'\n"
   ]
  },
  {
   "cell_type": "markdown",
   "metadata": {},
   "source": [
    "<Add code snippet that shows the payload contents>"
   ]
  },
  {
   "cell_type": "code",
   "execution_count": 7,
   "metadata": {},
   "outputs": [],
   "source": [
    "output_file_name = 'output-2.csv'"
   ]
  },
  {
   "cell_type": "markdown",
   "metadata": {},
   "source": [
    "#### C. Perform real-time inference"
   ]
  },
  {
   "cell_type": "code",
   "execution_count": 8,
   "metadata": {},
   "outputs": [
    {
     "name": "stdout",
     "output_type": "stream",
     "text": [
      "/home/ec2-user/anaconda3/envs/amazonei_mxnet_p27/lib/python2.7/site-packages/OpenSSL/crypto.py:12: CryptographyDeprecationWarning: Python 2 is no longer supported by the Python core team. Support for it is now deprecated in cryptography, and will be removed in the next release.\n",
      "  from cryptography import x509\n",
      "{\n",
      "    \"InvokedProductionVariant\": \"AllTraffic\", \n",
      "    \"ContentType\": \"text/csv; charset=utf-8\"\n",
      "}\n"
     ]
    }
   ],
   "source": [
    "!aws sagemaker-runtime invoke-endpoint \\\n",
    "    --endpoint-name 'incident-category-prediction' \\\n",
    "    --body fileb://$file_name \\\n",
    "    --content-type 'text/csv' \\\n",
    "    --region us-east-2 \\\n",
    "    output-2.csv"
   ]
  },
  {
   "cell_type": "markdown",
   "metadata": {},
   "source": [
    "#### D. Output result"
   ]
  },
  {
   "cell_type": "code",
   "execution_count": 9,
   "metadata": {},
   "outputs": [
    {
     "data": {
      "text/html": [
       "<div>\n",
       "<style scoped>\n",
       "    .dataframe tbody tr th:only-of-type {\n",
       "        vertical-align: middle;\n",
       "    }\n",
       "\n",
       "    .dataframe tbody tr th {\n",
       "        vertical-align: top;\n",
       "    }\n",
       "\n",
       "    .dataframe thead th {\n",
       "        text-align: right;\n",
       "    }\n",
       "</style>\n",
       "<table border=\"1\" class=\"dataframe\">\n",
       "  <thead>\n",
       "    <tr style=\"text-align: right;\">\n",
       "      <th></th>\n",
       "      <th>Unnamed: 0</th>\n",
       "      <th>Incident_number</th>\n",
       "      <th>Description</th>\n",
       "      <th>Topic_number</th>\n",
       "      <th>Topic_name</th>\n",
       "    </tr>\n",
       "  </thead>\n",
       "  <tbody>\n",
       "    <tr>\n",
       "      <th>0</th>\n",
       "      <td>0</td>\n",
       "      <td>1</td>\n",
       "      <td>hi since recruiter lead permission approve req...</td>\n",
       "      <td>4</td>\n",
       "      <td>Generic Assistance</td>\n",
       "    </tr>\n",
       "    <tr>\n",
       "      <th>1</th>\n",
       "      <td>1</td>\n",
       "      <td>7</td>\n",
       "      <td>change role hello dear please change pm role s...</td>\n",
       "      <td>4</td>\n",
       "      <td>Generic Assistance</td>\n",
       "    </tr>\n",
       "    <tr>\n",
       "      <th>2</th>\n",
       "      <td>2</td>\n",
       "      <td>8</td>\n",
       "      <td>hello received workstation granted ad please h...</td>\n",
       "      <td>4</td>\n",
       "      <td>Generic Assistance</td>\n",
       "    </tr>\n",
       "    <tr>\n",
       "      <th>3</th>\n",
       "      <td>3</td>\n",
       "      <td>9</td>\n",
       "      <td>area hello please card area floor thank kind r...</td>\n",
       "      <td>4</td>\n",
       "      <td>Generic Assistance</td>\n",
       "    </tr>\n",
       "    <tr>\n",
       "      <th>4</th>\n",
       "      <td>4</td>\n",
       "      <td>10</td>\n",
       "      <td>badge lost hello lost badge need one thank you</td>\n",
       "      <td>4</td>\n",
       "      <td>Generic Assistance</td>\n",
       "    </tr>\n",
       "    <tr>\n",
       "      <th>5</th>\n",
       "      <td>5</td>\n",
       "      <td>11</td>\n",
       "      <td>sent stolen phone hi please raise block card f...</td>\n",
       "      <td>4</td>\n",
       "      <td>Generic Assistance</td>\n",
       "    </tr>\n",
       "    <tr>\n",
       "      <th>6</th>\n",
       "      <td>6</td>\n",
       "      <td>12</td>\n",
       "      <td>sent friday need re start importance high hi s...</td>\n",
       "      <td>4</td>\n",
       "      <td>Generic Assistance</td>\n",
       "    </tr>\n",
       "    <tr>\n",
       "      <th>7</th>\n",
       "      <td>7</td>\n",
       "      <td>13</td>\n",
       "      <td>sent friday december restart hello can you ple...</td>\n",
       "      <td>4</td>\n",
       "      <td>Generic Assistance</td>\n",
       "    </tr>\n",
       "    <tr>\n",
       "      <th>8</th>\n",
       "      <td>8</td>\n",
       "      <td>14</td>\n",
       "      <td>sent wednesday unable remove reservation hi pl...</td>\n",
       "      <td>4</td>\n",
       "      <td>Generic Assistance</td>\n",
       "    </tr>\n",
       "    <tr>\n",
       "      <th>9</th>\n",
       "      <td>9</td>\n",
       "      <td>15</td>\n",
       "      <td>phone gives error parse error when trying dire...</td>\n",
       "      <td>4</td>\n",
       "      <td>Generic Assistance</td>\n",
       "    </tr>\n",
       "  </tbody>\n",
       "</table>\n",
       "</div>"
      ],
      "text/plain": [
       "   Unnamed: 0  Incident_number  \\\n",
       "0           0                1   \n",
       "1           1                7   \n",
       "2           2                8   \n",
       "3           3                9   \n",
       "4           4               10   \n",
       "5           5               11   \n",
       "6           6               12   \n",
       "7           7               13   \n",
       "8           8               14   \n",
       "9           9               15   \n",
       "\n",
       "                                         Description  Topic_number  \\\n",
       "0  hi since recruiter lead permission approve req...             4   \n",
       "1  change role hello dear please change pm role s...             4   \n",
       "2  hello received workstation granted ad please h...             4   \n",
       "3  area hello please card area floor thank kind r...             4   \n",
       "4     badge lost hello lost badge need one thank you             4   \n",
       "5  sent stolen phone hi please raise block card f...             4   \n",
       "6  sent friday need re start importance high hi s...             4   \n",
       "7  sent friday december restart hello can you ple...             4   \n",
       "8  sent wednesday unable remove reservation hi pl...             4   \n",
       "9  phone gives error parse error when trying dire...             4   \n",
       "\n",
       "           Topic_name  \n",
       "0  Generic Assistance  \n",
       "1  Generic Assistance  \n",
       "2  Generic Assistance  \n",
       "3  Generic Assistance  \n",
       "4  Generic Assistance  \n",
       "5  Generic Assistance  \n",
       "6  Generic Assistance  \n",
       "7  Generic Assistance  \n",
       "8  Generic Assistance  \n",
       "9  Generic Assistance  "
      ]
     },
     "execution_count": 9,
     "metadata": {},
     "output_type": "execute_result"
    }
   ],
   "source": [
    "df = pd.read_csv(\"output-2.csv\")\n",
    "#df  = df.drop('Unnamed: 0',1)\n",
    "df.head(10)"
   ]
  },
  {
   "cell_type": "markdown",
   "metadata": {},
   "source": [
    "#### E. Delete the endpoint"
   ]
  },
  {
   "cell_type": "markdown",
   "metadata": {},
   "source": [
    "Now that you have successfully performed a real-time inference, you do not need the endpoint any more. You can terminate the endpoint to avoid being charged."
   ]
  },
  {
   "cell_type": "code",
   "execution_count": 10,
   "metadata": {},
   "outputs": [],
   "source": [
    "predictor=sage.RealTimePredictor(model_name, sagemaker_session,content_type)\n",
    "predictor.delete_endpoint(delete_endpoint_config=True)"
   ]
  },
  {
   "cell_type": "markdown",
   "metadata": {},
   "source": [
    "### 3. Perform batch inference"
   ]
  },
  {
   "cell_type": "markdown",
   "metadata": {},
   "source": [
    "In this section, you will perform batch inference using multiple input payloads together. If you are not familiar with batch transform, and want to learn more, see these links:\n",
    "1. [How it works](https://docs.aws.amazon.com/sagemaker/latest/dg/ex1-batch-transform.html)\n",
    "2. [How to run a batch transform job](https://docs.aws.amazon.com/sagemaker/latest/dg/how-it-works-batch.html)"
   ]
  },
  {
   "cell_type": "code",
   "execution_count": 11,
   "metadata": {},
   "outputs": [
    {
     "name": "stdout",
     "output_type": "stream",
     "text": [
      "Transform input uploaded to s3://sagemaker-us-east-2-786796469737/incident-category-prediction/Input-2.csv\n"
     ]
    }
   ],
   "source": [
    "#upload the batch-transform job input files to S3\n",
    "transform_input_folder = \"./data/input/Input-2.csv\"\n",
    "transform_input = sagemaker_session.upload_data(transform_input_folder, key_prefix=model_name) \n",
    "print(\"Transform input uploaded to \" + transform_input)"
   ]
  },
  {
   "cell_type": "code",
   "execution_count": 12,
   "metadata": {},
   "outputs": [
    {
     "name": "stdout",
     "output_type": "stream",
     "text": [
      "..........................\u001b[34m * Serving Flask app \"serve\" (lazy loading)\n",
      " * Environment: production\n",
      "   WARNING: This is a development server. Do not use it in a production deployment.\n",
      "   Use a production WSGI server instead.\n",
      " * Debug mode: off\n",
      " * Running on http://0.0.0.0:8080/ (Press CTRL+C to quit)\u001b[0m\n",
      "\u001b[35m * Serving Flask app \"serve\" (lazy loading)\n",
      " * Environment: production\n",
      "   WARNING: This is a development server. Do not use it in a production deployment.\n",
      "   Use a production WSGI server instead.\n",
      " * Debug mode: off\n",
      " * Running on http://0.0.0.0:8080/ (Press CTRL+C to quit)\u001b[0m\n",
      "\u001b[34m169.254.255.130 - - [11/Nov/2021 11:27:47] \"#033[37mGET /ping HTTP/1.1#033[0m\" 200 -\u001b[0m\n",
      "\u001b[34m169.254.255.130 - - [11/Nov/2021 11:27:47] \"#033[33mGET /execution-parameters HTTP/1.1#033[0m\" 404 -\u001b[0m\n",
      "\u001b[35m169.254.255.130 - - [11/Nov/2021 11:27:47] \"#033[37mGET /ping HTTP/1.1#033[0m\" 200 -\u001b[0m\n",
      "\u001b[35m169.254.255.130 - - [11/Nov/2021 11:27:47] \"#033[33mGET /execution-parameters HTTP/1.1#033[0m\" 404 -\u001b[0m\n",
      "\u001b[34m#015  0%|          | 0/1 [00:00<?, ?it/s]#015100%|##########| 1/1 [00:00<00:00, 1038.97it/s]\u001b[0m\n",
      "\u001b[34m#015  0%|          | 0/1 [00:00<?, ?it/s]#015100%|##########| 1/1 [00:00<00:00,  3.10it/s]#015100%|##########| 1/1 [00:00<00:00,  3.10it/s]\u001b[0m\n",
      "\u001b[34m#015  0%|          | 0/1 [00:00<?, ?it/s]#015100%|##########| 1/1 [00:00<00:00, 902.00it/s]\u001b[0m\n",
      "\u001b[34m#015  0%|          | 0/1 [00:00<?, ?it/s]#015100%|##########| 1/1 [00:00<00:00,  3.19it/s]#015100%|##########| 1/1 [00:00<00:00,  3.19it/s]\u001b[0m\n",
      "\u001b[34m#015  0%|          | 0/1 [00:00<?, ?it/s]#015100%|##########| 1/1 [00:00<00:00, 1501.18it/s]\u001b[0m\n",
      "\u001b[35m#015  0%|          | 0/1 [00:00<?, ?it/s]#015100%|##########| 1/1 [00:00<00:00, 1038.97it/s]\u001b[0m\n",
      "\u001b[35m#015  0%|          | 0/1 [00:00<?, ?it/s]#015100%|##########| 1/1 [00:00<00:00,  3.10it/s]#015100%|##########| 1/1 [00:00<00:00,  3.10it/s]\u001b[0m\n",
      "\u001b[35m#015  0%|          | 0/1 [00:00<?, ?it/s]#015100%|##########| 1/1 [00:00<00:00, 902.00it/s]\u001b[0m\n",
      "\u001b[35m#015  0%|          | 0/1 [00:00<?, ?it/s]#015100%|##########| 1/1 [00:00<00:00,  3.19it/s]#015100%|##########| 1/1 [00:00<00:00,  3.19it/s]\u001b[0m\n",
      "\u001b[35m#015  0%|          | 0/1 [00:00<?, ?it/s]#015100%|##########| 1/1 [00:00<00:00, 1501.18it/s]\u001b[0m\n",
      "\u001b[32m2021-11-11T11:27:47.939:[sagemaker logs]: MaxConcurrentTransforms=1, MaxPayloadInMB=6, BatchStrategy=MULTI_RECORD\u001b[0m\n",
      "\u001b[34m#015  0%|          | 0/1 [00:00<?, ?it/s]#015100%|##########| 1/1 [00:00<00:00,  3.16it/s]#015100%|##########| 1/1 [00:00<00:00,  3.16it/s]\u001b[0m\n",
      "\u001b[34m#015  0%|          | 0/1 [00:00<?, ?it/s]#015100%|##########| 1/1 [00:00<00:00, 951.95it/s]\u001b[0m\n",
      "\u001b[34m#015  0%|          | 0/1 [00:00<?, ?it/s]#015100%|##########| 1/1 [00:00<00:00,  3.19it/s]#015100%|##########| 1/1 [00:00<00:00,  3.19it/s]\u001b[0m\n",
      "\u001b[34m#015  0%|          | 0/1 [00:00<?, ?it/s]#015100%|##########| 1/1 [00:00<00:00, 939.37it/s]\u001b[0m\n",
      "\u001b[34m#015  0%|          | 0/1 [00:00<?, ?it/s]#015100%|##########| 1/1 [00:00<00:00,  3.12it/s]#015100%|##########| 1/1 [00:00<00:00,  3.12it/s]\u001b[0m\n",
      "\u001b[34m#015  0%|          | 0/1 [00:00<?, ?it/s]#015100%|##########| 1/1 [00:00<00:00, 1724.63it/s]\u001b[0m\n",
      "\u001b[34m#015  0%|          | 0/1 [00:00<?, ?it/s]#015100%|##########| 1/1 [00:00<00:00,  3.15it/s]#015100%|##########| 1/1 [00:00<00:00,  3.14it/s]\u001b[0m\n",
      "\u001b[34m#015  0%|          | 0/1 [00:00<?, ?it/s]#015100%|##########| 1/1 [00:00<00:00, 1119.97it/s]\u001b[0m\n",
      "\u001b[35m#015  0%|          | 0/1 [00:00<?, ?it/s]#015100%|##########| 1/1 [00:00<00:00,  3.16it/s]#015100%|##########| 1/1 [00:00<00:00,  3.16it/s]\u001b[0m\n",
      "\u001b[35m#015  0%|          | 0/1 [00:00<?, ?it/s]#015100%|##########| 1/1 [00:00<00:00, 951.95it/s]\u001b[0m\n",
      "\u001b[35m#015  0%|          | 0/1 [00:00<?, ?it/s]#015100%|##########| 1/1 [00:00<00:00,  3.19it/s]#015100%|##########| 1/1 [00:00<00:00,  3.19it/s]\u001b[0m\n",
      "\u001b[35m#015  0%|          | 0/1 [00:00<?, ?it/s]#015100%|##########| 1/1 [00:00<00:00, 939.37it/s]\u001b[0m\n",
      "\u001b[35m#015  0%|          | 0/1 [00:00<?, ?it/s]#015100%|##########| 1/1 [00:00<00:00,  3.12it/s]#015100%|##########| 1/1 [00:00<00:00,  3.12it/s]\u001b[0m\n",
      "\u001b[35m#015  0%|          | 0/1 [00:00<?, ?it/s]#015100%|##########| 1/1 [00:00<00:00, 1724.63it/s]\u001b[0m\n",
      "\u001b[35m#015  0%|          | 0/1 [00:00<?, ?it/s]#015100%|##########| 1/1 [00:00<00:00,  3.15it/s]#015100%|##########| 1/1 [00:00<00:00,  3.14it/s]\u001b[0m\n",
      "\u001b[35m#015  0%|          | 0/1 [00:00<?, ?it/s]#015100%|##########| 1/1 [00:00<00:00, 1119.97it/s]\u001b[0m\n",
      "\u001b[34m#015  0%|          | 0/1 [00:00<?, ?it/s]#015100%|##########| 1/1 [00:00<00:00,  2.76it/s]#015100%|##########| 1/1 [00:00<00:00,  2.75it/s]\u001b[0m\n",
      "\u001b[34m#015  0%|          | 0/1 [00:00<?, ?it/s]#015100%|##########| 1/1 [00:00<00:00, 1316.07it/s]\u001b[0m\n",
      "\u001b[34m#015  0%|          | 0/1 [00:00<?, ?it/s]#015100%|##########| 1/1 [00:00<00:00,  3.14it/s]#015100%|##########| 1/1 [00:00<00:00,  3.14it/s]\u001b[0m\n",
      "\u001b[34m#015  0%|          | 0/1 [00:00<?, ?it/s]#015100%|##########| 1/1 [00:00<00:00, 1302.17it/s]\u001b[0m\n",
      "\u001b[35m#015  0%|          | 0/1 [00:00<?, ?it/s]#015100%|##########| 1/1 [00:00<00:00,  2.76it/s]#015100%|##########| 1/1 [00:00<00:00,  2.75it/s]\u001b[0m\n",
      "\u001b[35m#015  0%|          | 0/1 [00:00<?, ?it/s]#015100%|##########| 1/1 [00:00<00:00, 1316.07it/s]\u001b[0m\n",
      "\u001b[35m#015  0%|          | 0/1 [00:00<?, ?it/s]#015100%|##########| 1/1 [00:00<00:00,  3.14it/s]#015100%|##########| 1/1 [00:00<00:00,  3.14it/s]\u001b[0m\n",
      "\u001b[35m#015  0%|          | 0/1 [00:00<?, ?it/s]#015100%|##########| 1/1 [00:00<00:00, 1302.17it/s]\u001b[0m\n",
      "\u001b[34m#015  0%|          | 0/1 [00:00<?, ?it/s]#015100%|##########| 1/1 [00:00<00:00,  3.02it/s]#015100%|##########| 1/1 [00:00<00:00,  3.02it/s]\u001b[0m\n",
      "\u001b[34m#015  0%|          | 0/1 [00:00<?, ?it/s]#015100%|##########| 1/1 [00:00<00:00, 1669.71it/s]\u001b[0m\n",
      "\u001b[34m#015  0%|          | 0/1 [00:00<?, ?it/s]#015100%|##########| 1/1 [00:00<00:00,  3.14it/s]#015100%|##########| 1/1 [00:00<00:00,  3.14it/s]\u001b[0m\n",
      "\u001b[34m#015  0%|          | 0/1 [00:00<?, ?it/s]#015100%|##########| 1/1 [00:00<00:00, 1194.62it/s]\u001b[0m\n",
      "\u001b[34m#015  0%|          | 0/1 [00:00<?, ?it/s]#015100%|##########| 1/1 [00:00<00:00,  3.16it/s]#015100%|##########| 1/1 [00:00<00:00,  3.15it/s]\u001b[0m\n",
      "\u001b[34m#015  0%|          | 0/1 [00:00<?, ?it/s]#015100%|##########| 1/1 [00:00<00:00, 814.11it/s]\u001b[0m\n",
      "\u001b[34m#015  0%|          | 0/1 [00:00<?, ?it/s]#015100%|##########| 1/1 [00:00<00:00,  3.18it/s]#015100%|##########| 1/1 [00:00<00:00,  3.18it/s]\u001b[0m\n",
      "\u001b[34m#015  0%|          | 0/1 [00:00<?, ?it/s]#015100%|##########| 1/1 [00:00<00:00, 1404.66it/s]\u001b[0m\n",
      "\u001b[35m#015  0%|          | 0/1 [00:00<?, ?it/s]#015100%|##########| 1/1 [00:00<00:00,  3.02it/s]#015100%|##########| 1/1 [00:00<00:00,  3.02it/s]\u001b[0m\n",
      "\u001b[35m#015  0%|          | 0/1 [00:00<?, ?it/s]#015100%|##########| 1/1 [00:00<00:00, 1669.71it/s]\u001b[0m\n",
      "\u001b[35m#015  0%|          | 0/1 [00:00<?, ?it/s]#015100%|##########| 1/1 [00:00<00:00,  3.14it/s]#015100%|##########| 1/1 [00:00<00:00,  3.14it/s]\u001b[0m\n",
      "\u001b[35m#015  0%|          | 0/1 [00:00<?, ?it/s]#015100%|##########| 1/1 [00:00<00:00, 1194.62it/s]\u001b[0m\n",
      "\u001b[35m#015  0%|          | 0/1 [00:00<?, ?it/s]#015100%|##########| 1/1 [00:00<00:00,  3.16it/s]#015100%|##########| 1/1 [00:00<00:00,  3.15it/s]\u001b[0m\n",
      "\u001b[35m#015  0%|          | 0/1 [00:00<?, ?it/s]#015100%|##########| 1/1 [00:00<00:00, 814.11it/s]\u001b[0m\n",
      "\u001b[35m#015  0%|          | 0/1 [00:00<?, ?it/s]#015100%|##########| 1/1 [00:00<00:00,  3.18it/s]#015100%|##########| 1/1 [00:00<00:00,  3.18it/s]\u001b[0m\n",
      "\u001b[35m#015  0%|          | 0/1 [00:00<?, ?it/s]#015100%|##########| 1/1 [00:00<00:00, 1404.66it/s]\u001b[0m\n",
      "\u001b[34m#015  0%|          | 0/1 [00:00<?, ?it/s]#015100%|##########| 1/1 [00:00<00:00,  3.15it/s]#015100%|##########| 1/1 [00:00<00:00,  3.14it/s]\u001b[0m\n",
      "\u001b[34m#015  0%|          | 0/1 [00:00<?, ?it/s]#015100%|##########| 1/1 [00:00<00:00, 1090.56it/s]\u001b[0m\n",
      "\u001b[34m#015  0%|          | 0/1 [00:00<?, ?it/s]#015100%|##########| 1/1 [00:00<00:00,  3.16it/s]#015100%|##########| 1/1 [00:00<00:00,  3.16it/s]\u001b[0m\n",
      "\u001b[34m#015  0%|          | 0/1 [00:00<?, ?it/s]#015100%|##########| 1/1 [00:00<00:00, 1036.65it/s]\u001b[0m\n",
      "\u001b[34m#015  0%|          | 0/1 [00:00<?, ?it/s]#015100%|##########| 1/1 [00:00<00:00,  3.18it/s]#015100%|##########| 1/1 [00:00<00:00,  3.18it/s]\u001b[0m\n",
      "\u001b[34m#015  0%|          | 0/1 [00:00<?, ?it/s]#015100%|##########| 1/1 [00:00<00:00, 984.12it/s]\u001b[0m\n",
      "\u001b[35m#015  0%|          | 0/1 [00:00<?, ?it/s]#015100%|##########| 1/1 [00:00<00:00,  3.15it/s]#015100%|##########| 1/1 [00:00<00:00,  3.14it/s]\u001b[0m\n",
      "\u001b[35m#015  0%|          | 0/1 [00:00<?, ?it/s]#015100%|##########| 1/1 [00:00<00:00, 1090.56it/s]\u001b[0m\n",
      "\u001b[35m#015  0%|          | 0/1 [00:00<?, ?it/s]#015100%|##########| 1/1 [00:00<00:00,  3.16it/s]#015100%|##########| 1/1 [00:00<00:00,  3.16it/s]\u001b[0m\n",
      "\u001b[35m#015  0%|          | 0/1 [00:00<?, ?it/s]#015100%|##########| 1/1 [00:00<00:00, 1036.65it/s]\u001b[0m\n",
      "\u001b[35m#015  0%|          | 0/1 [00:00<?, ?it/s]#015100%|##########| 1/1 [00:00<00:00,  3.18it/s]#015100%|##########| 1/1 [00:00<00:00,  3.18it/s]\u001b[0m\n",
      "\u001b[35m#015  0%|          | 0/1 [00:00<?, ?it/s]#015100%|##########| 1/1 [00:00<00:00, 984.12it/s]\u001b[0m\n",
      "\u001b[34m#015  0%|          | 0/1 [00:00<?, ?it/s]#015100%|##########| 1/1 [00:00<00:00,  3.23it/s]#015100%|##########| 1/1 [00:00<00:00,  3.22it/s]\u001b[0m\n",
      "\u001b[35m#015  0%|          | 0/1 [00:00<?, ?it/s]#015100%|##########| 1/1 [00:00<00:00,  3.23it/s]#015100%|##########| 1/1 [00:00<00:00,  3.22it/s]\u001b[0m\n",
      "\u001b[34m#015  0%|          | 0/1 [00:00<?, ?it/s]#015100%|##########| 1/1 [00:00<00:00, 1085.20it/s]\u001b[0m\n",
      "\u001b[34m#015  0%|          | 0/1 [00:00<?, ?it/s]#015100%|##########| 1/1 [00:00<00:00,  3.21it/s]#015100%|##########| 1/1 [00:00<00:00,  3.21it/s]\u001b[0m\n",
      "\u001b[34m#015  0%|          | 0/1 [00:00<?, ?it/s]#015100%|##########| 1/1 [00:00<00:00, 1095.98it/s]\u001b[0m\n",
      "\u001b[34m#015  0%|          | 0/1 [00:00<?, ?it/s]#015100%|##########| 1/1 [00:00<00:00,  3.20it/s]#015100%|##########| 1/1 [00:00<00:00,  3.20it/s]\u001b[0m\n",
      "\u001b[34m#015  0%|          | 0/1 [00:00<?, ?it/s]#015100%|##########| 1/1 [00:00<00:00, 815.85it/s]\u001b[0m\n",
      "\u001b[35m#015  0%|          | 0/1 [00:00<?, ?it/s]#015100%|##########| 1/1 [00:00<00:00, 1085.20it/s]\u001b[0m\n",
      "\u001b[35m#015  0%|          | 0/1 [00:00<?, ?it/s]#015100%|##########| 1/1 [00:00<00:00,  3.21it/s]#015100%|##########| 1/1 [00:00<00:00,  3.21it/s]\u001b[0m\n",
      "\u001b[35m#015  0%|          | 0/1 [00:00<?, ?it/s]#015100%|##########| 1/1 [00:00<00:00, 1095.98it/s]\u001b[0m\n",
      "\u001b[35m#015  0%|          | 0/1 [00:00<?, ?it/s]#015100%|##########| 1/1 [00:00<00:00,  3.20it/s]#015100%|##########| 1/1 [00:00<00:00,  3.20it/s]\u001b[0m\n",
      "\u001b[35m#015  0%|          | 0/1 [00:00<?, ?it/s]#015100%|##########| 1/1 [00:00<00:00, 815.85it/s]\u001b[0m\n",
      "\u001b[34m#015  0%|          | 0/1 [00:00<?, ?it/s]#015100%|##########| 1/1 [00:00<00:00,  3.19it/s]#015100%|##########| 1/1 [00:00<00:00,  3.19it/s]\u001b[0m\n",
      "\u001b[34m#015  0%|          | 0/1 [00:00<?, ?it/s]#015100%|##########| 1/1 [00:00<00:00, 1027.76it/s]\u001b[0m\n",
      "\u001b[34m#015  0%|          | 0/1 [00:00<?, ?it/s]#015100%|##########| 1/1 [00:00<00:00,  3.18it/s]#015100%|##########| 1/1 [00:00<00:00,  3.18it/s]\u001b[0m\n",
      "\u001b[34m#015  0%|          | 0/1 [00:00<?, ?it/s]#015100%|##########| 1/1 [00:00<00:00, 855.63it/s]\u001b[0m\n",
      "\u001b[34m#015  0%|          | 0/1 [00:00<?, ?it/s]#015100%|##########| 1/1 [00:00<00:00,  3.17it/s]#015100%|##########| 1/1 [00:00<00:00,  3.17it/s]\u001b[0m\n",
      "\u001b[34m#015  0%|          | 0/1 [00:00<?, ?it/s]#015100%|##########| 1/1 [00:00<00:00, 665.23it/s]\u001b[0m\n",
      "\u001b[35m#015  0%|          | 0/1 [00:00<?, ?it/s]#015100%|##########| 1/1 [00:00<00:00,  3.19it/s]#015100%|##########| 1/1 [00:00<00:00,  3.19it/s]\u001b[0m\n",
      "\u001b[35m#015  0%|          | 0/1 [00:00<?, ?it/s]#015100%|##########| 1/1 [00:00<00:00, 1027.76it/s]\u001b[0m\n",
      "\u001b[35m#015  0%|          | 0/1 [00:00<?, ?it/s]#015100%|##########| 1/1 [00:00<00:00,  3.18it/s]#015100%|##########| 1/1 [00:00<00:00,  3.18it/s]\u001b[0m\n",
      "\u001b[35m#015  0%|          | 0/1 [00:00<?, ?it/s]#015100%|##########| 1/1 [00:00<00:00, 855.63it/s]\u001b[0m\n",
      "\u001b[35m#015  0%|          | 0/1 [00:00<?, ?it/s]#015100%|##########| 1/1 [00:00<00:00,  3.17it/s]#015100%|##########| 1/1 [00:00<00:00,  3.17it/s]\u001b[0m\n",
      "\u001b[35m#015  0%|          | 0/1 [00:00<?, ?it/s]#015100%|##########| 1/1 [00:00<00:00, 665.23it/s]\u001b[0m\n",
      "\u001b[34m#015  0%|          | 0/1 [00:00<?, ?it/s]#015100%|##########| 1/1 [00:00<00:00,  2.97it/s]#015100%|##########| 1/1 [00:00<00:00,  2.96it/s]\u001b[0m\n",
      "\u001b[34m#015  0%|          | 0/1 [00:00<?, ?it/s]#015100%|##########| 1/1 [00:00<00:00, 780.34it/s]\u001b[0m\n",
      "\u001b[34m#015  0%|          | 0/1 [00:00<?, ?it/s]#015100%|##########| 1/1 [00:00<00:00,  3.15it/s]#015100%|##########| 1/1 [00:00<00:00,  3.14it/s]\u001b[0m\n",
      "\u001b[34m#015  0%|          | 0/1 [00:00<?, ?it/s]#015100%|##########| 1/1 [00:00<00:00, 661.35it/s]\u001b[0m\n",
      "\u001b[34m#015  0%|          | 0/1 [00:00<?, ?it/s]#015100%|##########| 1/1 [00:00<00:00,  3.14it/s]#015100%|##########| 1/1 [00:00<00:00,  3.14it/s]\u001b[0m\n",
      "\u001b[34m#015  0%|          | 0/1 [00:00<?, ?it/s]#015100%|##########| 1/1 [00:00<00:00, 1044.14it/s]\u001b[0m\n",
      "\u001b[35m#015  0%|          | 0/1 [00:00<?, ?it/s]#015100%|##########| 1/1 [00:00<00:00,  2.97it/s]#015100%|##########| 1/1 [00:00<00:00,  2.96it/s]\u001b[0m\n",
      "\u001b[35m#015  0%|          | 0/1 [00:00<?, ?it/s]#015100%|##########| 1/1 [00:00<00:00, 780.34it/s]\u001b[0m\n",
      "\u001b[35m#015  0%|          | 0/1 [00:00<?, ?it/s]#015100%|##########| 1/1 [00:00<00:00,  3.15it/s]#015100%|##########| 1/1 [00:00<00:00,  3.14it/s]\u001b[0m\n",
      "\u001b[35m#015  0%|          | 0/1 [00:00<?, ?it/s]#015100%|##########| 1/1 [00:00<00:00, 661.35it/s]\u001b[0m\n",
      "\u001b[35m#015  0%|          | 0/1 [00:00<?, ?it/s]#015100%|##########| 1/1 [00:00<00:00,  3.14it/s]#015100%|##########| 1/1 [00:00<00:00,  3.14it/s]\u001b[0m\n",
      "\u001b[35m#015  0%|          | 0/1 [00:00<?, ?it/s]#015100%|##########| 1/1 [00:00<00:00, 1044.14it/s]\u001b[0m\n",
      "\u001b[34m#015  0%|          | 0/1 [00:00<?, ?it/s]#015100%|##########| 1/1 [00:00<00:00,  3.20it/s]#015100%|##########| 1/1 [00:00<00:00,  3.20it/s]\u001b[0m\n",
      "\u001b[34m#015  0%|          | 0/1 [00:00<?, ?it/s]#015100%|##########| 1/1 [00:00<00:00, 1045.18it/s]\u001b[0m\n",
      "\u001b[35m#015  0%|          | 0/1 [00:00<?, ?it/s]#015100%|##########| 1/1 [00:00<00:00,  3.20it/s]#015100%|##########| 1/1 [00:00<00:00,  3.20it/s]\u001b[0m\n",
      "\u001b[35m#015  0%|          | 0/1 [00:00<?, ?it/s]#015100%|##########| 1/1 [00:00<00:00, 1045.18it/s]\u001b[0m\n",
      "\u001b[34m#015  0%|          | 0/1 [00:00<?, ?it/s]#015100%|##########| 1/1 [00:00<00:00,  3.22it/s]#015100%|##########| 1/1 [00:00<00:00,  3.22it/s]\u001b[0m\n",
      "\u001b[34m#015  0%|          | 0/1 [00:00<?, ?it/s]#015100%|##########| 1/1 [00:00<00:00, 1462.96it/s]\u001b[0m\n",
      "\u001b[34m#015  0%|          | 0/1 [00:00<?, ?it/s]#015100%|##########| 1/1 [00:00<00:00,  3.22it/s]#015100%|##########| 1/1 [00:00<00:00,  3.22it/s]\u001b[0m\n",
      "\u001b[34m#015  0%|          | 0/1 [00:00<?, ?it/s]#015100%|##########| 1/1 [00:00<00:00, 1107.55it/s]\u001b[0m\n",
      "\u001b[35m#015  0%|          | 0/1 [00:00<?, ?it/s]#015100%|##########| 1/1 [00:00<00:00,  3.22it/s]#015100%|##########| 1/1 [00:00<00:00,  3.22it/s]\u001b[0m\n",
      "\u001b[35m#015  0%|          | 0/1 [00:00<?, ?it/s]#015100%|##########| 1/1 [00:00<00:00, 1462.96it/s]\u001b[0m\n",
      "\u001b[35m#015  0%|          | 0/1 [00:00<?, ?it/s]#015100%|##########| 1/1 [00:00<00:00,  3.22it/s]#015100%|##########| 1/1 [00:00<00:00,  3.22it/s]\u001b[0m\n",
      "\u001b[35m#015  0%|          | 0/1 [00:00<?, ?it/s]#015100%|##########| 1/1 [00:00<00:00, 1107.55it/s]\u001b[0m\n",
      "\u001b[34m#015  0%|          | 0/1 [00:00<?, ?it/s]#015100%|##########| 1/1 [00:00<00:00,  3.10it/s]#015100%|##########| 1/1 [00:00<00:00,  3.10it/s]\u001b[0m\n",
      "\u001b[34m#015  0%|          | 0/1 [00:00<?, ?it/s]#015100%|##########| 1/1 [00:00<00:00, 901.42it/s]\u001b[0m\n",
      "\u001b[34m#015  0%|          | 0/1 [00:00<?, ?it/s]#015100%|##########| 1/1 [00:00<00:00,  3.21it/s]#015100%|##########| 1/1 [00:00<00:00,  3.21it/s]\u001b[0m\n",
      "\u001b[34m#015  0%|          | 0/1 [00:00<?, ?it/s]#015100%|##########| 1/1 [00:00<00:00, 1116.69it/s]\u001b[0m\n",
      "\u001b[34m#015  0%|          | 0/1 [00:00<?, ?it/s]#015100%|##########| 1/1 [00:00<00:00,  3.18it/s]#015100%|##########| 1/1 [00:00<00:00,  3.18it/s]\u001b[0m\n",
      "\u001b[34m#015  0%|          | 0/1 [00:00<?, ?it/s]#015100%|##########| 1/1 [00:00<00:00, 1168.33it/s]\u001b[0m\n",
      "\u001b[35m#015  0%|          | 0/1 [00:00<?, ?it/s]#015100%|##########| 1/1 [00:00<00:00,  3.10it/s]#015100%|##########| 1/1 [00:00<00:00,  3.10it/s]\u001b[0m\n",
      "\u001b[35m#015  0%|          | 0/1 [00:00<?, ?it/s]#015100%|##########| 1/1 [00:00<00:00, 901.42it/s]\u001b[0m\n",
      "\u001b[35m#015  0%|          | 0/1 [00:00<?, ?it/s]#015100%|##########| 1/1 [00:00<00:00,  3.21it/s]#015100%|##########| 1/1 [00:00<00:00,  3.21it/s]\u001b[0m\n",
      "\u001b[35m#015  0%|          | 0/1 [00:00<?, ?it/s]#015100%|##########| 1/1 [00:00<00:00, 1116.69it/s]\u001b[0m\n",
      "\u001b[35m#015  0%|          | 0/1 [00:00<?, ?it/s]#015100%|##########| 1/1 [00:00<00:00,  3.18it/s]#015100%|##########| 1/1 [00:00<00:00,  3.18it/s]\u001b[0m\n",
      "\u001b[35m#015  0%|          | 0/1 [00:00<?, ?it/s]#015100%|##########| 1/1 [00:00<00:00, 1168.33it/s]\u001b[0m\n",
      "\u001b[34m#015  0%|          | 0/1 [00:00<?, ?it/s]#015100%|##########| 1/1 [00:00<00:00,  3.17it/s]#015100%|##########| 1/1 [00:00<00:00,  3.17it/s]\u001b[0m\n",
      "\u001b[34m#015  0%|          | 0/1 [00:00<?, ?it/s]#015100%|##########| 1/1 [00:00<00:00, 1311.54it/s]\u001b[0m\n",
      "\u001b[34m#015  0%|          | 0/1 [00:00<?, ?it/s]#015100%|##########| 1/1 [00:00<00:00,  3.13it/s]#015100%|##########| 1/1 [00:00<00:00,  3.13it/s]\u001b[0m\n",
      "\u001b[35m#015  0%|          | 0/1 [00:00<?, ?it/s]#015100%|##########| 1/1 [00:00<00:00,  3.17it/s]#015100%|##########| 1/1 [00:00<00:00,  3.17it/s]\u001b[0m\n",
      "\u001b[35m#015  0%|          | 0/1 [00:00<?, ?it/s]#015100%|##########| 1/1 [00:00<00:00, 1311.54it/s]\u001b[0m\n",
      "\u001b[35m#015  0%|          | 0/1 [00:00<?, ?it/s]#015100%|##########| 1/1 [00:00<00:00,  3.13it/s]#015100%|##########| 1/1 [00:00<00:00,  3.13it/s]\u001b[0m\n",
      "\u001b[34m#015  0%|          | 0/1 [00:00<?, ?it/s]#015100%|##########| 1/1 [00:00<00:00, 827.44it/s]\u001b[0m\n",
      "\u001b[34m#015  0%|          | 0/1 [00:00<?, ?it/s]#015100%|##########| 1/1 [00:00<00:00,  3.19it/s]#015100%|##########| 1/1 [00:00<00:00,  3.19it/s]\u001b[0m\n",
      "\u001b[34m#015  0%|          | 0/1 [00:00<?, ?it/s]#015100%|##########| 1/1 [00:00<00:00, 932.90it/s]\u001b[0m\n",
      "\u001b[34m#015  0%|          | 0/1 [00:00<?, ?it/s]#015100%|##########| 1/1 [00:00<00:00,  3.21it/s]#015100%|##########| 1/1 [00:00<00:00,  3.21it/s]\u001b[0m\n",
      "\u001b[34m#015  0%|          | 0/1 [00:00<?, ?it/s]#015100%|##########| 1/1 [00:00<00:00, 1419.39it/s]\u001b[0m\n",
      "\u001b[35m#015  0%|          | 0/1 [00:00<?, ?it/s]#015100%|##########| 1/1 [00:00<00:00, 827.44it/s]\u001b[0m\n",
      "\u001b[35m#015  0%|          | 0/1 [00:00<?, ?it/s]#015100%|##########| 1/1 [00:00<00:00,  3.19it/s]#015100%|##########| 1/1 [00:00<00:00,  3.19it/s]\u001b[0m\n",
      "\u001b[35m#015  0%|          | 0/1 [00:00<?, ?it/s]#015100%|##########| 1/1 [00:00<00:00, 932.90it/s]\u001b[0m\n",
      "\u001b[35m#015  0%|          | 0/1 [00:00<?, ?it/s]#015100%|##########| 1/1 [00:00<00:00,  3.21it/s]#015100%|##########| 1/1 [00:00<00:00,  3.21it/s]\u001b[0m\n",
      "\u001b[35m#015  0%|          | 0/1 [00:00<?, ?it/s]#015100%|##########| 1/1 [00:00<00:00, 1419.39it/s]\u001b[0m\n",
      "\u001b[34m#015  0%|          | 0/1 [00:00<?, ?it/s]#015100%|##########| 1/1 [00:00<00:00,  3.15it/s]#015100%|##########| 1/1 [00:00<00:00,  3.15it/s]\u001b[0m\n",
      "\u001b[34m#015  0%|          | 0/1 [00:00<?, ?it/s]#015100%|##########| 1/1 [00:00<00:00, 900.65it/s]\u001b[0m\n",
      "\u001b[34m#015  0%|          | 0/1 [00:00<?, ?it/s]#015100%|##########| 1/1 [00:00<00:00,  3.18it/s]#015100%|##########| 1/1 [00:00<00:00,  3.18it/s]\u001b[0m\n",
      "\u001b[34m#015  0%|          | 0/1 [00:00<?, ?it/s]#015100%|##########| 1/1 [00:00<00:00, 1223.54it/s]\u001b[0m\n",
      "\u001b[34m#015  0%|          | 0/1 [00:00<?, ?it/s]#015100%|##########| 1/1 [00:00<00:00,  3.17it/s]#015100%|##########| 1/1 [00:00<00:00,  3.17it/s]\u001b[0m\n",
      "\u001b[34m#015  0%|          | 0/1 [00:00<?, ?it/s]#015100%|##########| 1/1 [00:00<00:00, 1089.71it/s]\u001b[0m\n",
      "\u001b[35m#015  0%|          | 0/1 [00:00<?, ?it/s]#015100%|##########| 1/1 [00:00<00:00,  3.15it/s]#015100%|##########| 1/1 [00:00<00:00,  3.15it/s]\u001b[0m\n",
      "\u001b[35m#015  0%|          | 0/1 [00:00<?, ?it/s]#015100%|##########| 1/1 [00:00<00:00, 900.65it/s]\u001b[0m\n",
      "\u001b[35m#015  0%|          | 0/1 [00:00<?, ?it/s]#015100%|##########| 1/1 [00:00<00:00,  3.18it/s]#015100%|##########| 1/1 [00:00<00:00,  3.18it/s]\u001b[0m\n",
      "\u001b[35m#015  0%|          | 0/1 [00:00<?, ?it/s]#015100%|##########| 1/1 [00:00<00:00, 1223.54it/s]\u001b[0m\n",
      "\u001b[35m#015  0%|          | 0/1 [00:00<?, ?it/s]#015100%|##########| 1/1 [00:00<00:00,  3.17it/s]#015100%|##########| 1/1 [00:00<00:00,  3.17it/s]\u001b[0m\n",
      "\u001b[35m#015  0%|          | 0/1 [00:00<?, ?it/s]#015100%|##########| 1/1 [00:00<00:00, 1089.71it/s]\u001b[0m\n",
      "\u001b[34m#015  0%|          | 0/1 [00:00<?, ?it/s]#015100%|##########| 1/1 [00:00<00:00,  3.17it/s]#015100%|##########| 1/1 [00:00<00:00,  3.17it/s]\u001b[0m\n",
      "\u001b[34m#015  0%|          | 0/1 [00:00<?, ?it/s]#015100%|##########| 1/1 [00:00<00:00, 796.79it/s]\u001b[0m\n",
      "\u001b[34m#015  0%|          | 0/1 [00:00<?, ?it/s]#015100%|##########| 1/1 [00:00<00:00,  3.19it/s]#015100%|##########| 1/1 [00:00<00:00,  3.19it/s]\u001b[0m\n",
      "\u001b[34m#015  0%|          | 0/1 [00:00<?, ?it/s]#015100%|##########| 1/1 [00:00<00:00, 1285.41it/s]\u001b[0m\n",
      "\u001b[34m#015  0%|          | 0/1 [00:00<?, ?it/s]#015100%|##########| 1/1 [00:00<00:00,  3.20it/s]#015100%|##########| 1/1 [00:00<00:00,  3.20it/s]\u001b[0m\n",
      "\u001b[34m#015  0%|          | 0/1 [00:00<?, ?it/s]#015100%|##########| 1/1 [00:00<00:00, 1590.56it/s]\u001b[0m\n",
      "\u001b[35m#015  0%|          | 0/1 [00:00<?, ?it/s]#015100%|##########| 1/1 [00:00<00:00,  3.17it/s]#015100%|##########| 1/1 [00:00<00:00,  3.17it/s]\u001b[0m\n",
      "\u001b[35m#015  0%|          | 0/1 [00:00<?, ?it/s]#015100%|##########| 1/1 [00:00<00:00, 796.79it/s]\u001b[0m\n",
      "\u001b[35m#015  0%|          | 0/1 [00:00<?, ?it/s]#015100%|##########| 1/1 [00:00<00:00,  3.19it/s]#015100%|##########| 1/1 [00:00<00:00,  3.19it/s]\u001b[0m\n",
      "\u001b[35m#015  0%|          | 0/1 [00:00<?, ?it/s]#015100%|##########| 1/1 [00:00<00:00, 1285.41it/s]\u001b[0m\n",
      "\u001b[35m#015  0%|          | 0/1 [00:00<?, ?it/s]#015100%|##########| 1/1 [00:00<00:00,  3.20it/s]#015100%|##########| 1/1 [00:00<00:00,  3.20it/s]\u001b[0m\n",
      "\u001b[35m#015  0%|          | 0/1 [00:00<?, ?it/s]#015100%|##########| 1/1 [00:00<00:00, 1590.56it/s]\u001b[0m\n",
      "\u001b[34m#015  0%|          | 0/1 [00:00<?, ?it/s]#015100%|##########| 1/1 [00:00<00:00,  3.17it/s]#015100%|##########| 1/1 [00:00<00:00,  3.16it/s]\u001b[0m\n",
      "\u001b[35m#015  0%|          | 0/1 [00:00<?, ?it/s]#015100%|##########| 1/1 [00:00<00:00,  3.17it/s]#015100%|##########| 1/1 [00:00<00:00,  3.16it/s]\u001b[0m\n",
      "\u001b[34m#015  0%|          | 0/1 [00:00<?, ?it/s]#015100%|##########| 1/1 [00:00<00:00, 1603.94it/s]\u001b[0m\n",
      "\u001b[34m#015  0%|          | 0/1 [00:00<?, ?it/s]#015100%|##########| 1/1 [00:00<00:00,  3.17it/s]#015100%|##########| 1/1 [00:00<00:00,  3.17it/s]\u001b[0m\n",
      "\u001b[34m#015  0%|          | 0/1 [00:00<?, ?it/s]#015100%|##########| 1/1 [00:00<00:00, 2033.11it/s]\u001b[0m\n",
      "\u001b[34m#015  0%|          | 0/1 [00:00<?, ?it/s]#015100%|##########| 1/1 [00:00<00:00,  3.20it/s]#015100%|##########| 1/1 [00:00<00:00,  3.19it/s]\u001b[0m\n",
      "\u001b[34m#015  0%|          | 0/1 [00:00<?, ?it/s]#015100%|##########| 1/1 [00:00<00:00, 1307.04it/s]\u001b[0m\n",
      "\u001b[35m#015  0%|          | 0/1 [00:00<?, ?it/s]#015100%|##########| 1/1 [00:00<00:00, 1603.94it/s]\u001b[0m\n",
      "\u001b[35m#015  0%|          | 0/1 [00:00<?, ?it/s]#015100%|##########| 1/1 [00:00<00:00,  3.17it/s]#015100%|##########| 1/1 [00:00<00:00,  3.17it/s]\u001b[0m\n",
      "\u001b[35m#015  0%|          | 0/1 [00:00<?, ?it/s]#015100%|##########| 1/1 [00:00<00:00, 2033.11it/s]\u001b[0m\n",
      "\u001b[35m#015  0%|          | 0/1 [00:00<?, ?it/s]#015100%|##########| 1/1 [00:00<00:00,  3.20it/s]#015100%|##########| 1/1 [00:00<00:00,  3.19it/s]\u001b[0m\n",
      "\u001b[35m#015  0%|          | 0/1 [00:00<?, ?it/s]#015100%|##########| 1/1 [00:00<00:00, 1307.04it/s]\u001b[0m\n",
      "\u001b[34m#015  0%|          | 0/1 [00:00<?, ?it/s]#015100%|##########| 1/1 [00:00<00:00,  3.19it/s]#015100%|##########| 1/1 [00:00<00:00,  3.18it/s]\u001b[0m\n",
      "\u001b[34m#015  0%|          | 0/1 [00:00<?, ?it/s]#015100%|##########| 1/1 [00:00<00:00, 1606.40it/s]\u001b[0m\n",
      "\u001b[34m#015  0%|          | 0/1 [00:00<?, ?it/s]#015100%|##########| 1/1 [00:00<00:00,  3.17it/s]#015100%|##########| 1/1 [00:00<00:00,  3.17it/s]\u001b[0m\n",
      "\u001b[34m#015  0%|          | 0/1 [00:00<?, ?it/s]#015100%|##########| 1/1 [00:00<00:00, 1895.30it/s]\u001b[0m\n",
      "\u001b[34m#015  0%|          | 0/1 [00:00<?, ?it/s]#015100%|##########| 1/1 [00:00<00:00,  3.22it/s]#015100%|##########| 1/1 [00:00<00:00,  3.22it/s]\u001b[0m\n",
      "\u001b[34m#015  0%|          | 0/1 [00:00<?, ?it/s]#015100%|##########| 1/1 [00:00<00:00, 1329.84it/s]\u001b[0m\n",
      "\u001b[35m#015  0%|          | 0/1 [00:00<?, ?it/s]#015100%|##########| 1/1 [00:00<00:00,  3.19it/s]#015100%|##########| 1/1 [00:00<00:00,  3.18it/s]\u001b[0m\n",
      "\u001b[35m#015  0%|          | 0/1 [00:00<?, ?it/s]#015100%|##########| 1/1 [00:00<00:00, 1606.40it/s]\u001b[0m\n",
      "\u001b[35m#015  0%|          | 0/1 [00:00<?, ?it/s]#015100%|##########| 1/1 [00:00<00:00,  3.17it/s]#015100%|##########| 1/1 [00:00<00:00,  3.17it/s]\u001b[0m\n",
      "\u001b[35m#015  0%|          | 0/1 [00:00<?, ?it/s]#015100%|##########| 1/1 [00:00<00:00, 1895.30it/s]\u001b[0m\n",
      "\u001b[35m#015  0%|          | 0/1 [00:00<?, ?it/s]#015100%|##########| 1/1 [00:00<00:00,  3.22it/s]#015100%|##########| 1/1 [00:00<00:00,  3.22it/s]\u001b[0m\n",
      "\u001b[35m#015  0%|          | 0/1 [00:00<?, ?it/s]#015100%|##########| 1/1 [00:00<00:00, 1329.84it/s]\u001b[0m\n",
      "\u001b[34m#015  0%|          | 0/1 [00:00<?, ?it/s]#015100%|##########| 1/1 [00:00<00:00,  3.22it/s]#015100%|##########| 1/1 [00:00<00:00,  3.21it/s]\u001b[0m\n",
      "\u001b[34m169.254.255.130 - - [11/Nov/2021 11:28:06] \"#033[37mPOST /invocations HTTP/1.1#033[0m\" 200 -\u001b[0m\n",
      "\u001b[35m#015  0%|          | 0/1 [00:00<?, ?it/s]#015100%|##########| 1/1 [00:00<00:00,  3.22it/s]#015100%|##########| 1/1 [00:00<00:00,  3.21it/s]\u001b[0m\n",
      "\u001b[35m169.254.255.130 - - [11/Nov/2021 11:28:06] \"#033[37mPOST /invocations HTTP/1.1#033[0m\" 200 -\u001b[0m\n",
      "\n"
     ]
    }
   ],
   "source": [
    "#Run the batch-transform job\n",
    "transformer = model.transformer(1, batch_transform_inference_instance_type)\n",
    "transformer.transform(transform_input, content_type=content_type)\n",
    "transformer.wait()"
   ]
  },
  {
   "cell_type": "code",
   "execution_count": 13,
   "metadata": {},
   "outputs": [
    {
     "data": {
      "text/plain": [
       "'s3://sagemaker-us-east-2-786796469737/mphasis-marketplace-incident-category-p-2021-11-11-11-23-40-361'"
      ]
     },
     "execution_count": 13,
     "metadata": {},
     "output_type": "execute_result"
    }
   ],
   "source": [
    "#output is available on following path\n",
    "transformer.output_path"
   ]
  },
  {
   "cell_type": "code",
   "execution_count": 14,
   "metadata": {},
   "outputs": [
    {
     "name": "stderr",
     "output_type": "stream",
     "text": [
      "/home/ec2-user/anaconda3/envs/amazonei_mxnet_p27/lib/python2.7/site-packages/boto3/compat.py:86: PythonDeprecationWarning: Boto3 will no longer support Python 2.7 starting July 15, 2021. To continue receiving service updates, bug fixes, and security updates please upgrade to Python 3.6 or later. More information can be found here: https://aws.amazon.com/blogs/developer/announcing-end-of-support-for-python-2-7-in-aws-sdk-for-python-and-aws-cli-v1/\n",
      "  warnings.warn(warning, PythonDeprecationWarning)\n"
     ]
    },
    {
     "name": "stdout",
     "output_type": "stream",
     "text": [
      "Output file loaded from bucket\n"
     ]
    }
   ],
   "source": [
    "s3_conn = boto3.client(\"s3\")\n",
    "bucket_name=\"sagemaker-us-east-2-786796469737\"\n",
    "with open('./data/output/output-2.csv', 'wb') as f:\n",
    "    s3_conn.download_fileobj(bucket_name, 'mphasis-marketplace-incident-category-p-2021-11-11-11-23-40-361'+'/Input-2.csv.out', f)\n",
    "    print(\"Output file loaded from bucket\")"
   ]
  },
  {
   "cell_type": "code",
   "execution_count": 15,
   "metadata": {},
   "outputs": [
    {
     "data": {
      "text/html": [
       "<div>\n",
       "<style scoped>\n",
       "    .dataframe tbody tr th:only-of-type {\n",
       "        vertical-align: middle;\n",
       "    }\n",
       "\n",
       "    .dataframe tbody tr th {\n",
       "        vertical-align: top;\n",
       "    }\n",
       "\n",
       "    .dataframe thead th {\n",
       "        text-align: right;\n",
       "    }\n",
       "</style>\n",
       "<table border=\"1\" class=\"dataframe\">\n",
       "  <thead>\n",
       "    <tr style=\"text-align: right;\">\n",
       "      <th></th>\n",
       "      <th>Unnamed: 0</th>\n",
       "      <th>Incident_number</th>\n",
       "      <th>Description</th>\n",
       "      <th>Topic_number</th>\n",
       "      <th>Topic_name</th>\n",
       "    </tr>\n",
       "  </thead>\n",
       "  <tbody>\n",
       "    <tr>\n",
       "      <th>0</th>\n",
       "      <td>0</td>\n",
       "      <td>1</td>\n",
       "      <td>hi since recruiter lead permission approve req...</td>\n",
       "      <td>4</td>\n",
       "      <td>Generic Assistance</td>\n",
       "    </tr>\n",
       "    <tr>\n",
       "      <th>1</th>\n",
       "      <td>1</td>\n",
       "      <td>7</td>\n",
       "      <td>change role hello dear please change pm role s...</td>\n",
       "      <td>4</td>\n",
       "      <td>Generic Assistance</td>\n",
       "    </tr>\n",
       "    <tr>\n",
       "      <th>2</th>\n",
       "      <td>2</td>\n",
       "      <td>8</td>\n",
       "      <td>hello received workstation granted ad please h...</td>\n",
       "      <td>4</td>\n",
       "      <td>Generic Assistance</td>\n",
       "    </tr>\n",
       "    <tr>\n",
       "      <th>3</th>\n",
       "      <td>3</td>\n",
       "      <td>9</td>\n",
       "      <td>area hello please card area floor thank kind r...</td>\n",
       "      <td>4</td>\n",
       "      <td>Generic Assistance</td>\n",
       "    </tr>\n",
       "    <tr>\n",
       "      <th>4</th>\n",
       "      <td>4</td>\n",
       "      <td>10</td>\n",
       "      <td>badge lost hello lost badge need one thank you</td>\n",
       "      <td>4</td>\n",
       "      <td>Generic Assistance</td>\n",
       "    </tr>\n",
       "    <tr>\n",
       "      <th>5</th>\n",
       "      <td>5</td>\n",
       "      <td>11</td>\n",
       "      <td>sent stolen phone hi please raise block card f...</td>\n",
       "      <td>4</td>\n",
       "      <td>Generic Assistance</td>\n",
       "    </tr>\n",
       "    <tr>\n",
       "      <th>6</th>\n",
       "      <td>6</td>\n",
       "      <td>12</td>\n",
       "      <td>sent friday need re start importance high hi s...</td>\n",
       "      <td>4</td>\n",
       "      <td>Generic Assistance</td>\n",
       "    </tr>\n",
       "    <tr>\n",
       "      <th>7</th>\n",
       "      <td>7</td>\n",
       "      <td>13</td>\n",
       "      <td>sent friday december restart hello can you ple...</td>\n",
       "      <td>4</td>\n",
       "      <td>Generic Assistance</td>\n",
       "    </tr>\n",
       "    <tr>\n",
       "      <th>8</th>\n",
       "      <td>8</td>\n",
       "      <td>14</td>\n",
       "      <td>sent wednesday unable remove reservation hi pl...</td>\n",
       "      <td>4</td>\n",
       "      <td>Generic Assistance</td>\n",
       "    </tr>\n",
       "    <tr>\n",
       "      <th>9</th>\n",
       "      <td>9</td>\n",
       "      <td>15</td>\n",
       "      <td>phone gives error parse error when trying dire...</td>\n",
       "      <td>4</td>\n",
       "      <td>Generic Assistance</td>\n",
       "    </tr>\n",
       "  </tbody>\n",
       "</table>\n",
       "</div>"
      ],
      "text/plain": [
       "   Unnamed: 0  Incident_number  \\\n",
       "0           0                1   \n",
       "1           1                7   \n",
       "2           2                8   \n",
       "3           3                9   \n",
       "4           4               10   \n",
       "5           5               11   \n",
       "6           6               12   \n",
       "7           7               13   \n",
       "8           8               14   \n",
       "9           9               15   \n",
       "\n",
       "                                         Description  Topic_number  \\\n",
       "0  hi since recruiter lead permission approve req...             4   \n",
       "1  change role hello dear please change pm role s...             4   \n",
       "2  hello received workstation granted ad please h...             4   \n",
       "3  area hello please card area floor thank kind r...             4   \n",
       "4     badge lost hello lost badge need one thank you             4   \n",
       "5  sent stolen phone hi please raise block card f...             4   \n",
       "6  sent friday need re start importance high hi s...             4   \n",
       "7  sent friday december restart hello can you ple...             4   \n",
       "8  sent wednesday unable remove reservation hi pl...             4   \n",
       "9  phone gives error parse error when trying dire...             4   \n",
       "\n",
       "           Topic_name  \n",
       "0  Generic Assistance  \n",
       "1  Generic Assistance  \n",
       "2  Generic Assistance  \n",
       "3  Generic Assistance  \n",
       "4  Generic Assistance  \n",
       "5  Generic Assistance  \n",
       "6  Generic Assistance  \n",
       "7  Generic Assistance  \n",
       "8  Generic Assistance  \n",
       "9  Generic Assistance  "
      ]
     },
     "execution_count": 15,
     "metadata": {},
     "output_type": "execute_result"
    }
   ],
   "source": [
    "df = pd.read_csv(\"./data/output/output-2.csv\")\n",
    "#df  = df.drop('Unnamed: 0',1)\n",
    "df.head(10)"
   ]
  },
  {
   "cell_type": "markdown",
   "metadata": {},
   "source": [
    "### 4. Clean-up"
   ]
  },
  {
   "cell_type": "markdown",
   "metadata": {},
   "source": [
    "#### A. Delete the model"
   ]
  },
  {
   "cell_type": "code",
   "execution_count": 16,
   "metadata": {},
   "outputs": [],
   "source": [
    "model.delete_model()"
   ]
  },
  {
   "cell_type": "markdown",
   "metadata": {},
   "source": [
    "#### B. Unsubscribe to the listing (optional)"
   ]
  },
  {
   "cell_type": "markdown",
   "metadata": {},
   "source": [
    "If you would like to unsubscribe to the model package, follow these steps. Before you cancel the subscription, ensure that you do not have any [deployable model](https://console.aws.amazon.com/sagemaker/home#/models) created from the model package or using the algorithm. Note - You can find this information by looking at the container name associated with the model. \n",
    "\n",
    "**Steps to unsubscribe to product from AWS Marketplace**:\n",
    "1. Navigate to __Machine Learning__ tab on [__Your Software subscriptions page__](https://aws.amazon.com/marketplace/ai/library?productType=ml&ref_=mlmp_gitdemo_indust)\n",
    "2. Locate the listing that you want to cancel the subscription for, and then choose __Cancel Subscription__  to cancel the subscription.\n",
    "\n"
   ]
  }
 ],
 "metadata": {
  "kernelspec": {
   "display_name": "conda_amazonei_mxnet_p27",
   "language": "python",
   "name": "conda_amazonei_mxnet_p27"
  },
  "language_info": {
   "codemirror_mode": {
    "name": "ipython",
    "version": 2
   },
   "file_extension": ".py",
   "mimetype": "text/x-python",
   "name": "python",
   "nbconvert_exporter": "python",
   "pygments_lexer": "ipython2",
   "version": "2.7.16"
  }
 },
 "nbformat": 4,
 "nbformat_minor": 2
}
